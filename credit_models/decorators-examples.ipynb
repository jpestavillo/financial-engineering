{
 "cells": [
  {
   "cell_type": "code",
   "execution_count": 31,
   "metadata": {},
   "outputs": [],
   "source": [
    "import time\n",
    "import functools\n",
    "from typing import List\n",
    "\n",
    "\n",
    "def identity(func):\n",
    "    @functools.wraps(func)\n",
    "    def wrapper(*args, **kwargs):\n",
    "        return func(*args, **kwargs)\n",
    "    return wrapper\n",
    "\n",
    "def timeit(func):\n",
    "    @functools.wraps(func)\n",
    "    def wrapper(*args, **kwargs):\n",
    "        start = time.time()\n",
    "        out = func(*args, **kwargs)\n",
    "        print(\"timeit\")\n",
    "        print(f\"Execution took: {time.time() - start} seconds\")\n",
    "        return out\n",
    "    return wrapper\n",
    "\n",
    "\n",
    "def odds_filter(func):\n",
    "    @functools.wraps(func)\n",
    "    def wrapper(*args, **kwargs):\n",
    "        print(\"odds_filter\")\n",
    "        return [num for num in func(*args, **kwargs) if num % 2]\n",
    "    return wrapper\n",
    "\n",
    "\n",
    "def even_filter(func):\n",
    "    @functools.wraps(func)\n",
    "    def wrapper(*args, **kwargs):\n",
    "        print(\"pair_filter\")\n",
    "        return [num for num in func(*args, **kwargs) if not num % 2]\n",
    "    return wrapper\n"
   ]
  },
  {
   "cell_type": "code",
   "execution_count": 29,
   "metadata": {},
   "outputs": [
    {
     "name": "stdout",
     "output_type": "stream",
     "text": [
      "odds_filter\n",
      "timeit\n",
      "Execution took: 0.0010039806365966797 seconds\n"
     ]
    },
    {
     "data": {
      "text/plain": [
       "[1, 3, 5, 7, 9]"
      ]
     },
     "execution_count": 29,
     "metadata": {},
     "output_type": "execute_result"
    }
   ],
   "source": [
    "\n",
    "@timeit\n",
    "@odds_filter\n",
    "def get_numbers(a: int, b: int) -> List[int]:\n",
    "    \"\"\"Example\"\"\"\n",
    "    return [num for num in range(a, b)]\n",
    "\n",
    "\n",
    "@odds_filter\n",
    "def another_function():\n",
    "    return [num for num in range(-5, 20)]\n",
    "\n",
    "\n",
    "get_numbers(a=0, b=10)"
   ]
  },
  {
   "cell_type": "code",
   "execution_count": 32,
   "metadata": {},
   "outputs": [
    {
     "name": "stdout",
     "output_type": "stream",
     "text": [
      "(1, 23, 5)\n",
      "{'a': 7, 'b': 10}\n"
     ]
    }
   ],
   "source": [
    "@identity\n",
    "def fun(*args, **kwargs):\n",
    "    # args represents positional arguments\n",
    "    # Kwargs represents named arguments\n",
    "    print(args, kwargs, sep=\"\\n\")\n",
    "    \n",
    "fun(1, 23, 5, a=7, b=10)"
   ]
  },
  {
   "cell_type": "code",
   "execution_count": null,
   "metadata": {},
   "outputs": [],
   "source": [
    "a = [1, 23, 5]\n",
    "k = dict(a=7, b=10)\n",
    "\n",
    "fun(*a, **k)"
   ]
  },
  {
   "cell_type": "code",
   "execution_count": 67,
   "metadata": {},
   "outputs": [
    {
     "data": {
      "text/plain": [
       "True"
      ]
     },
     "execution_count": 67,
     "metadata": {},
     "output_type": "execute_result"
    }
   ],
   "source": [
    "isinstance?\n",
    "\n",
    "isinstance(5, int)"
   ]
  },
  {
   "cell_type": "code",
   "execution_count": 68,
   "metadata": {},
   "outputs": [
    {
     "data": {
      "text/plain": [
       "False"
      ]
     },
     "execution_count": 68,
     "metadata": {},
     "output_type": "execute_result"
    }
   ],
   "source": [
    "isinstance(\"\", int)"
   ]
  },
  {
   "cell_type": "code",
   "execution_count": 53,
   "metadata": {},
   "outputs": [
    {
     "name": "stdout",
     "output_type": "stream",
     "text": [
      "('A',) {}\n",
      "() {'name': 'B'}\n",
      "() {'university': 'iteso'}\n",
      "() {}\n",
      "HELLO, A!\n",
      "HELLO, B!\n",
      "UNIVERSITY: ITESO\n",
      "None\n"
     ]
    }
   ],
   "source": [
    "import time\n",
    "\n",
    "# NOTE: The upper decorator changes the output of the original function.\n",
    "def upper(func):\n",
    "    @functools.wraps(func)\n",
    "    def wrapper(*args, **kwargs):\n",
    "        print(args, kwargs)\n",
    "        out = func(*args, **kwargs)\n",
    "        if isinstance(out, str):\n",
    "            return out.upper()\n",
    "        return None\n",
    "    return wrapper\n",
    "\n",
    "@upper\n",
    "def get_string(name: str = \"World\") -> str:\n",
    "    time.sleep(10)\n",
    "    return f\"Hello, {name}!\"\n",
    "\n",
    "@upper\n",
    "def get_university_name(university: str) -> str:\n",
    "    return f\"university: {university}\"\n",
    "\n",
    "@upper\n",
    "def get_year():\n",
    "    return 2020\n",
    "\n",
    "print(\n",
    "    get_string(\"A\"),\n",
    "    get_string(name=\"B\"),\n",
    "    get_university_name(university=\"iteso\"),\n",
    "    get_year(),\n",
    "    sep=\"\\n\"\n",
    ")"
   ]
  },
  {
   "cell_type": "code",
   "execution_count": 63,
   "metadata": {},
   "outputs": [
    {
     "name": "stdout",
     "output_type": "stream",
     "text": [
      "('example-2',) {}\n",
      "EXAMPLE-1\n",
      "EXAMPLE-2\n"
     ]
    }
   ],
   "source": [
    "# NOTE: the upper_arguments decorator changes the \"arguments\" before calling the original function. \n",
    "def upper_arguments(func):\n",
    "    @functools.wraps(func)\n",
    "    def wrapper(*args, **kwargs):\n",
    "        new_args = [arg.upper() for arg in args]\n",
    "        new_kwargs = {k: v.upper() for k, v in kwargs.items()}\n",
    "        return func(*new_args, **new_kwargs)\n",
    "    return wrapper\n",
    "\n",
    "@upper_arguments\n",
    "def print_value_a(value):\n",
    "    return value\n",
    "    \n",
    "@upper\n",
    "def print_value_b(value):\n",
    "    if value.upper() == value:\n",
    "        raise ValueError(\"Value needs to be lower case.\")\n",
    "    return value\n",
    "\n",
    "\n",
    "print(\n",
    "    print_value_a(\"example-1\"),\n",
    "    print_value_b(\"example-2\"),\n",
    "    sep=\"\\n\"\n",
    ")"
   ]
  },
  {
   "cell_type": "code",
   "execution_count": null,
   "metadata": {},
   "outputs": [],
   "source": [
    "get_string(\"A\") # Position\n",
    "get_string(name=\"B\") # Named\n"
   ]
  },
  {
   "cell_type": "code",
   "execution_count": 14,
   "metadata": {},
   "outputs": [
    {
     "data": {
      "text/plain": [
       "[-5, -3, -1, 1, 3, 5, 7, 9, 11, 13, 15, 17, 19]"
      ]
     },
     "execution_count": 14,
     "metadata": {},
     "output_type": "execute_result"
    }
   ],
   "source": [
    "another_function()"
   ]
  },
  {
   "cell_type": "code",
   "execution_count": 9,
   "metadata": {},
   "outputs": [
    {
     "data": {
      "text/plain": [
       "'get_numbers'"
      ]
     },
     "execution_count": 9,
     "metadata": {},
     "output_type": "execute_result"
    }
   ],
   "source": [
    "get_numbers.__name__"
   ]
  },
  {
   "cell_type": "code",
   "execution_count": 71,
   "metadata": {},
   "outputs": [
    {
     "data": {
      "text/plain": [
       "{'return': typing.List[int]}"
      ]
     },
     "execution_count": 71,
     "metadata": {},
     "output_type": "execute_result"
    }
   ],
   "source": [
    "import inspect\n",
    "\n",
    "inspect.getfullargspec(get_numbers).annotations\n"
   ]
  },
  {
   "cell_type": "code",
   "execution_count": null,
   "metadata": {},
   "outputs": [],
   "source": []
  }
 ],
 "metadata": {
  "kernelspec": {
   "display_name": "Python 3",
   "language": "python",
   "name": "python3"
  },
  "language_info": {
   "codemirror_mode": {
    "name": "ipython",
    "version": 3
   },
   "file_extension": ".py",
   "mimetype": "text/x-python",
   "name": "python",
   "nbconvert_exporter": "python",
   "pygments_lexer": "ipython3",
   "version": "3.7.4"
  }
 },
 "nbformat": 4,
 "nbformat_minor": 4
}
